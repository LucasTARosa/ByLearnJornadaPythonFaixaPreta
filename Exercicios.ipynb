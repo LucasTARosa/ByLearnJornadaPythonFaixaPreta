{
  "nbformat": 4,
  "nbformat_minor": 0,
  "metadata": {
    "colab": {
      "name": "Exercicios.ipynb",
      "provenance": [],
      "authorship_tag": "ABX9TyOhi9VW6l6zj/4rbKb0Jtxp",
      "include_colab_link": true
    },
    "kernelspec": {
      "name": "python3",
      "display_name": "Python 3"
    },
    "language_info": {
      "name": "python"
    }
  },
  "cells": [
    {
      "cell_type": "markdown",
      "metadata": {
        "id": "view-in-github",
        "colab_type": "text"
      },
      "source": [
        "<a href=\"https://colab.research.google.com/github/LucasTARosa/ByLearnJornadaPythonFaixaPreta/blob/main/Exercicios.ipynb\" target=\"_parent\"><img src=\"https://colab.research.google.com/assets/colab-badge.svg\" alt=\"Open In Colab\"/></a>"
      ]
    },
    {
      "cell_type": "code",
      "metadata": {
        "colab": {
          "base_uri": "https://localhost:8080/"
        },
        "id": "n3ceC92AH1H7",
        "outputId": "6be816e6-ad4f-4540-f5dc-b91f77c5b125"
      },
      "source": [
        "nota1 = 7.5\n",
        "nota2 = 4.8\n",
        "\n",
        "notas = [nota1, nota2]\n",
        "#definindo o que é \"calcular_media\"\n",
        "def calcular_media(notas):\n",
        "    quantidade = len(notas)\n",
        "\n",
        "    soma = 0\n",
        "    for nota in notas:\n",
        "      soma = soma + nota\n",
        "    \n",
        "    media = soma / quantidade\n",
        "\n",
        "    return media\n",
        "\n",
        "#definindo o que é \"verificar_aprovacao\"\n",
        "def verificar_aprovacao():\n",
        "    media = calcular_media([nota1, nota2])\n",
        "    \n",
        "    if media >= 6:\n",
        "      print('O aluno foi aprovado!')\n",
        "    else:\n",
        "      print('O aluno foi reprovado, se esforce mais')\n",
        "\n",
        "verificar_aprovacao()"
      ],
      "execution_count": 22,
      "outputs": [
        {
          "output_type": "stream",
          "text": [
            "O aluno foi aprovado!\n"
          ],
          "name": "stdout"
        }
      ]
    },
    {
      "cell_type": "code",
      "metadata": {
        "colab": {
          "base_uri": "https://localhost:8080/"
        },
        "id": "6x1W1_5jIac4",
        "outputId": "160398dd-cc9f-4aa0-9c85-2795c9de930d"
      },
      "source": [
        "frutas = ['Maça', 'Banana', 'Pera', 'Uva']\n",
        "guloseimas = ['Bolacha', 'Batata', 'Fini', 'Chocolate']\n",
        "comidas = ['Arroz', 'Feijão', 'Carne']\n",
        "bebidas = ['Refrigerante', 'Suco de laranja', 'Água']\n",
        "\n",
        "categorias = ['Frutas', 'Guloseimas', 'Comidas', 'Bebidas']\n",
        "compras = [frutas, guloseimas, comidas, bebidas]\n",
        "\n",
        "for indice, categoria in enumerate(categorias):\n",
        "  print('Você precisa comprar', len(compras[indice]), categoria+':')\n",
        "  for compra in compras[indice]:\n",
        "    print('-', compra)"
      ],
      "execution_count": 8,
      "outputs": [
        {
          "output_type": "stream",
          "text": [
            "Você precisa comprar 4 Frutas:\n",
            "- Maça\n",
            "- Banana\n",
            "- Pera\n",
            "- Uva\n",
            "Você precisa comprar 4 Guloseimas:\n",
            "- Bolacha\n",
            "- Batata\n",
            "- Fini\n",
            "- Chocolate\n",
            "Você precisa comprar 3 Comidas:\n",
            "- Arroz\n",
            "- Feijão\n",
            "- Carne\n",
            "Você precisa comprar 3 Bebidas:\n",
            "- Refrigerante\n",
            "- Suco de laranja\n",
            "- Água\n"
          ],
          "name": "stdout"
        }
      ]
    },
    {
      "cell_type": "code",
      "metadata": {
        "colab": {
          "base_uri": "https://localhost:8080/"
        },
        "id": "1Mg5wdLQKXyF",
        "outputId": "23468b69-cfc6-4d8c-c4bd-9463e6838c8b"
      },
      "source": [
        "def validar_idade(idade):\n",
        "  if idade < 18:\n",
        "   print('\\nDesculpe, você não tem idade para prosseguir,', nome)\n",
        "   return False\n",
        "  else: \n",
        "    print('\\nÓtimo! Podemos prosseguir,', nome)\n",
        "    return True\n",
        "\n",
        "def escolher_carta():\n",
        "  print('Digite uma das opções abaixo:')\n",
        "  print('1- Carro \\n2- Moto \\n3- Carro e moto')\n",
        "\n",
        "  return int(input())\n",
        "\n",
        "def calcular_preco(escolha):\n",
        "  valor_carro = 1500\n",
        "  valor_moto = 1000\n",
        "\n",
        "  if escolha == 1:\n",
        "    return valor_carro\n",
        "  elif escolha == 2:\n",
        "    return valor_moto\n",
        "  else:\n",
        "    return valor_carro + valor_moto\n",
        "\n",
        "def desconto(valor):\n",
        "  return valor - (valor * 0.10)\n",
        "\n",
        "nome = input('Digite o seu nome: ')\n",
        "idade = int(input('Digite sua idade: '))\n",
        "\n",
        "if validar_idade(idade):\n",
        "  escolha = escolher_carta()\n",
        "  \n",
        "  print('\\nPerfeito! Vou calcular o valor')\n",
        "  valor = calcular_preco(escolha)\n",
        "\n",
        "  print('\\n' +nome, 'o valor total é de', valor, 'reais')\n",
        "  print('Mas vou ver com meu gerente se posso dar um desconto...')\n",
        "  valor = desconto(valor)\n",
        "\n",
        "  print('\\nCom desconto eu consigo fazer por', valor, 'reais.')\n",
        "\n",
        "  print('Te interessa?\\n1 - Sim\\n2 - Não')\n",
        "  interesse = int(input())\n",
        "if interesse == 1:\n",
        "      print('\\nPerfeito! Começaremos amanhã!')\n",
        "else:\n",
        "      print('\\nTudo bem :(\\n Me avise se mudar de ideia.')"
      ],
      "execution_count": 19,
      "outputs": [
        {
          "output_type": "stream",
          "text": [
            "Digite o seu nome: Lucas\n",
            "Digite sua idade: 27\n",
            "\n",
            "Ótimo! Podemos prosseguir, Lucas\n",
            "Digite uma das opções abaixo:\n",
            "1- Carro \n",
            "2- Moto \n",
            "3- Carro e moto\n",
            "1\n",
            "\n",
            "Perfeito! Vou calcular o valor\n",
            "\n",
            "Lucas o valor total é de 1500 reais\n",
            "Mas vou ver com meu gerente se posso dar um desconto...\n",
            "\n",
            "Com desconto eu consigo fazer por 1350.0 reais.\n",
            "Te interessa?\n",
            "1 - Sim\n",
            "2 - Não\n",
            "1\n",
            "\n",
            "Perfeito! Começaremos amanhã!\n"
          ],
          "name": "stdout"
        }
      ]
    },
    {
      "cell_type": "code",
      "metadata": {
        "colab": {
          "base_uri": "https://localhost:8080/"
        },
        "id": "dmkr00AGLfl7",
        "outputId": "3ade5307-b7d1-4560-af24-fdee64ed3823"
      },
      "source": [
        "animais = []\n",
        "\n",
        "animal = input('Digite o nome de seus animais de estimação ou digite 0 se não tiver nenhum: ')\n",
        "\n",
        "while animal != '0':\n",
        "  especie = input('Digite a espécie desse animal: ')\n",
        "  animais.append([animal, especie])\n",
        "  animal = input('Se tiver mais animais, digite o nome dele. Ou digite 0 se não tiver: ')  \n",
        "\n",
        "if len(animais) == 0:\n",
        "  print('\\n\\nVocê não tem animais')\n",
        "else:\n",
        "  print('\\n\\nVocê tem os seguintes animais: ')\n",
        "  for animal in animais:\n",
        "    print('- Nome:', animal[0], \"| Espécie:\", animal[1])"
      ],
      "execution_count": 23,
      "outputs": [
        {
          "output_type": "stream",
          "text": [
            "Digite o nome de seus animais de estimação ou digite 0 se não tiver nenhum: Ivy\n",
            "Digite a espécie desse animal: Gato\n",
            "Se tiver mais animais, digite o nome dele. Ou digite 0 se não tiver: Tildinha\n",
            "Digite a espécie desse animal: Gato\n",
            "Se tiver mais animais, digite o nome dele. Ou digite 0 se não tiver: Nero\n",
            "Digite a espécie desse animal: Cachorro\n",
            "Se tiver mais animais, digite o nome dele. Ou digite 0 se não tiver: 0\n",
            "\n",
            "\n",
            "Você tem os seguintes animais: \n",
            "- Nome: Ivy | Espécie: Gato\n",
            "- Nome: Tildinha | Espécie: Gato\n",
            "- Nome: Nero | Espécie: Cachorro\n"
          ],
          "name": "stdout"
        }
      ]
    },
    {
      "cell_type": "code",
      "metadata": {
        "colab": {
          "base_uri": "https://localhost:8080/"
        },
        "id": "5vHC3LHTapnT",
        "outputId": "8579b43c-e29f-44de-b750-00d227483ffe"
      },
      "source": [
        "horario = 'manhã'\n",
        "clima = 'ensolarado'\n",
        "temperatura = 'quente'\n",
        "\n",
        "if horario == 'manhã' or horario == 'tarde':\n",
        "  if clima == 'ensolarado' and temperatura == 'quente':\n",
        "    print('Uma piscina cairia bem')\n",
        "\n",
        "  if (clima == 'ensolarado' or clima =='nublado') and (temperatura == 'amena' or temperatura == 'frio'):\n",
        "    print('Seria legal praticar algum esporte')\n",
        "\n",
        "  if clima == 'chuvoso':\n",
        "    print('Aproveite para treinar Python')\n",
        "\n",
        "else:\n",
        "  if clima == 'chuvoso':\n",
        "    print('Que tal um filme, série ou jotatina?')\n",
        "\n",
        "  else:\n",
        "    print('Um jantar fora parece interessante...')"
      ],
      "execution_count": 26,
      "outputs": [
        {
          "output_type": "stream",
          "text": [
            "Uma piscina cairia bem\n"
          ],
          "name": "stdout"
        }
      ]
    },
    {
      "cell_type": "code",
      "metadata": {
        "id": "ca2OUAJ-biRO"
      },
      "source": [
        ""
      ],
      "execution_count": null,
      "outputs": []
    }
  ]
}