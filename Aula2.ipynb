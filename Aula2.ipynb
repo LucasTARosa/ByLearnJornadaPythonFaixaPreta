{
  "nbformat": 4,
  "nbformat_minor": 0,
  "metadata": {
    "colab": {
      "name": "Aula2.ipynb",
      "provenance": [],
      "authorship_tag": "ABX9TyNHtQBeZkdSKYVg4xpWW0UV",
      "include_colab_link": true
    },
    "kernelspec": {
      "name": "python3",
      "display_name": "Python 3"
    },
    "language_info": {
      "name": "python"
    }
  },
  "cells": [
    {
      "cell_type": "markdown",
      "metadata": {
        "id": "view-in-github",
        "colab_type": "text"
      },
      "source": [
        "<a href=\"https://colab.research.google.com/github/LucasTARosa/JornadaByLearn/blob/main/Aula2.ipynb\" target=\"_parent\"><img src=\"https://colab.research.google.com/assets/colab-badge.svg\" alt=\"Open In Colab\"/></a>"
      ]
    },
    {
      "cell_type": "code",
      "metadata": {
        "colab": {
          "base_uri": "https://localhost:8080/"
        },
        "id": "XdBTKdpwqy3c",
        "outputId": "a26223c3-8e62-46c6-f1d3-aa0fe130af4a"
      },
      "source": [
        "print('Hello World')"
      ],
      "execution_count": null,
      "outputs": [
        {
          "output_type": "stream",
          "text": [
            "Hello World\n"
          ],
          "name": "stdout"
        }
      ]
    },
    {
      "cell_type": "code",
      "metadata": {
        "id": "Fm3pZVo9s1TC"
      },
      "source": [
        "nome = 'Lucas Rosa'"
      ],
      "execution_count": null,
      "outputs": []
    },
    {
      "cell_type": "code",
      "metadata": {
        "colab": {
          "base_uri": "https://localhost:8080/"
        },
        "id": "yvxu4UecwVFJ",
        "outputId": "0492358c-aee3-45dc-de00-71a938c42062"
      },
      "source": [
        "print(nome)"
      ],
      "execution_count": null,
      "outputs": [
        {
          "output_type": "stream",
          "text": [
            "Lucas Rosa\n"
          ],
          "name": "stdout"
        }
      ]
    },
    {
      "cell_type": "code",
      "metadata": {
        "id": "HbdrEoOLwFzo"
      },
      "source": [
        "primeiro_numero = 4"
      ],
      "execution_count": null,
      "outputs": []
    },
    {
      "cell_type": "code",
      "metadata": {
        "colab": {
          "base_uri": "https://localhost:8080/"
        },
        "id": "_7bmYcFdwS6z",
        "outputId": "a282a3e0-2db8-4b7a-a8d0-419ee5606352"
      },
      "source": [
        "print(primeiro_numero)"
      ],
      "execution_count": null,
      "outputs": [
        {
          "output_type": "execute_result",
          "data": {
            "text/plain": [
              "4"
            ]
          },
          "metadata": {
            "tags": []
          },
          "execution_count": 7
        }
      ]
    },
    {
      "cell_type": "code",
      "metadata": {
        "id": "p92dg9_NwJFV"
      },
      "source": [
        "segundo_numero=15"
      ],
      "execution_count": null,
      "outputs": []
    },
    {
      "cell_type": "code",
      "metadata": {
        "colab": {
          "base_uri": "https://localhost:8080/"
        },
        "id": "uDt0xH79wPz2",
        "outputId": "89bdc593-2e4b-49f5-8b16-52ebe623b9d0"
      },
      "source": [
        "print(segundo_numero)"
      ],
      "execution_count": null,
      "outputs": [
        {
          "output_type": "stream",
          "text": [
            "15\n"
          ],
          "name": "stdout"
        }
      ]
    },
    {
      "cell_type": "code",
      "metadata": {
        "id": "rIUNUaAAwQvf"
      },
      "source": [
        "soma = primeiro_numero + segundo_numero"
      ],
      "execution_count": null,
      "outputs": []
    },
    {
      "cell_type": "code",
      "metadata": {
        "colab": {
          "base_uri": "https://localhost:8080/"
        },
        "id": "Op-h8K6-xe8H",
        "outputId": "1291cf39-0b06-40b2-e38c-82f2c2cb7686"
      },
      "source": [
        "print(soma)"
      ],
      "execution_count": null,
      "outputs": [
        {
          "output_type": "stream",
          "text": [
            "19\n"
          ],
          "name": "stdout"
        }
      ]
    },
    {
      "cell_type": "code",
      "metadata": {
        "colab": {
          "base_uri": "https://localhost:8080/"
        },
        "id": "TX80EWpAxiyx",
        "outputId": "32785ac8-fac7-49c9-9927-ebc0b4ca2530"
      },
      "source": [
        "print(primeiro_numero+segundo_numero)"
      ],
      "execution_count": null,
      "outputs": [
        {
          "output_type": "stream",
          "text": [
            "19\n"
          ],
          "name": "stdout"
        }
      ]
    },
    {
      "cell_type": "code",
      "metadata": {
        "id": "XjkKMg45xnxJ"
      },
      "source": [
        "inteiro = 10\n",
        "decimal = 5.25\n",
        "texto = 'Lucas Rosa'\n",
        "verdadeira = True\n",
        "falso = False"
      ],
      "execution_count": null,
      "outputs": []
    },
    {
      "cell_type": "code",
      "metadata": {
        "colab": {
          "base_uri": "https://localhost:8080/",
          "height": 35
        },
        "id": "PVN78DgAzH8r",
        "outputId": "db2feb4f-719a-4899-e4ab-3d818fe6f18b"
      },
      "source": [
        "'Lucas ' + 'Luana'"
      ],
      "execution_count": null,
      "outputs": [
        {
          "output_type": "execute_result",
          "data": {
            "application/vnd.google.colaboratory.intrinsic+json": {
              "type": "string"
            },
            "text/plain": [
              "'Lucas Luana'"
            ]
          },
          "metadata": {
            "tags": []
          },
          "execution_count": 17
        }
      ]
    },
    {
      "cell_type": "code",
      "metadata": {
        "colab": {
          "base_uri": "https://localhost:8080/"
        },
        "id": "zbFVf1f7zRy3",
        "outputId": "7fd9149f-7e95-4955-c2e1-57243843322b"
      },
      "source": [
        "print('Mozão, ' + 'te amo!') "
      ],
      "execution_count": null,
      "outputs": [
        {
          "output_type": "stream",
          "text": [
            "Mozão, te amo!\n"
          ],
          "name": "stdout"
        }
      ]
    },
    {
      "cell_type": "code",
      "metadata": {
        "colab": {
          "base_uri": "https://localhost:8080/"
        },
        "id": "xJeshHlNzief",
        "outputId": "b5eca555-e996-4ff5-840e-7446c9609a66"
      },
      "source": [
        "print('Mozão, '+nome)"
      ],
      "execution_count": null,
      "outputs": [
        {
          "output_type": "stream",
          "text": [
            "Mozão, Lucas Rosa\n"
          ],
          "name": "stdout"
        }
      ]
    },
    {
      "cell_type": "code",
      "metadata": {
        "colab": {
          "base_uri": "https://localhost:8080/"
        },
        "id": "xNT3Zniwz8hw",
        "outputId": "c56a2748-4c2f-496f-baf0-beea59e34fc5"
      },
      "source": [
        "type(23.4)"
      ],
      "execution_count": null,
      "outputs": [
        {
          "output_type": "execute_result",
          "data": {
            "text/plain": [
              "float"
            ]
          },
          "metadata": {
            "tags": []
          },
          "execution_count": 25
        }
      ]
    },
    {
      "cell_type": "code",
      "metadata": {
        "colab": {
          "base_uri": "https://localhost:8080/"
        },
        "id": "kSGdPzExzwju",
        "outputId": "24d40c4b-3cdb-4ac3-c755-c28e4c75d3b2"
      },
      "source": [
        "type(23)"
      ],
      "execution_count": null,
      "outputs": [
        {
          "output_type": "execute_result",
          "data": {
            "text/plain": [
              "int"
            ]
          },
          "metadata": {
            "tags": []
          },
          "execution_count": 22
        }
      ]
    },
    {
      "cell_type": "code",
      "metadata": {
        "colab": {
          "base_uri": "https://localhost:8080/"
        },
        "id": "9nkPCGvUz04N",
        "outputId": "0f1deb36-6947-43cc-e9ea-a749e7cf382f"
      },
      "source": [
        "type('23')"
      ],
      "execution_count": null,
      "outputs": [
        {
          "output_type": "execute_result",
          "data": {
            "text/plain": [
              "str"
            ]
          },
          "metadata": {
            "tags": []
          },
          "execution_count": 23
        }
      ]
    },
    {
      "cell_type": "code",
      "metadata": {
        "colab": {
          "base_uri": "https://localhost:8080/"
        },
        "id": "SvT7LXA9z338",
        "outputId": "7a12df64-9e2d-4955-d5c5-f5f2342b4c27"
      },
      "source": [
        "type(False)"
      ],
      "execution_count": null,
      "outputs": [
        {
          "output_type": "execute_result",
          "data": {
            "text/plain": [
              "bool"
            ]
          },
          "metadata": {
            "tags": []
          },
          "execution_count": 24
        }
      ]
    },
    {
      "cell_type": "code",
      "metadata": {
        "colab": {
          "base_uri": "https://localhost:8080/"
        },
        "id": "67fJhGcTz5Vk",
        "outputId": "6a270c1c-3bd8-4c68-de3f-de4285f50c01"
      },
      "source": [
        "print(inteiro+decimal)"
      ],
      "execution_count": null,
      "outputs": [
        {
          "output_type": "stream",
          "text": [
            "15.25\n"
          ],
          "name": "stdout"
        }
      ]
    },
    {
      "cell_type": "code",
      "metadata": {
        "id": "IiJWwQAF0ypM"
      },
      "source": [
        "soma=10+15"
      ],
      "execution_count": null,
      "outputs": []
    },
    {
      "cell_type": "code",
      "metadata": {
        "id": "IqKb4tyl1Ppi"
      },
      "source": [
        "subtracao = 10 - 15"
      ],
      "execution_count": null,
      "outputs": []
    },
    {
      "cell_type": "code",
      "metadata": {
        "id": "hMM1Vj471SCm"
      },
      "source": [
        "multiplicacao = 5 * 8"
      ],
      "execution_count": null,
      "outputs": []
    },
    {
      "cell_type": "code",
      "metadata": {
        "id": "Y16DmsJ61ZaM"
      },
      "source": [
        "divisao = 10 / 4"
      ],
      "execution_count": null,
      "outputs": []
    },
    {
      "cell_type": "code",
      "metadata": {
        "id": "dViT-zvb2S8O"
      },
      "source": [
        "potencia = 2 ** 6"
      ],
      "execution_count": null,
      "outputs": []
    },
    {
      "cell_type": "code",
      "metadata": {
        "id": "jQwHz7zj3DRQ"
      },
      "source": [
        "equacao = ( 4.2 + 8.7) * 0.8 / 2"
      ],
      "execution_count": null,
      "outputs": []
    },
    {
      "cell_type": "code",
      "metadata": {
        "colab": {
          "base_uri": "https://localhost:8080/"
        },
        "id": "QkvFqDnD1c7B",
        "outputId": "136ac1cf-079d-4652-c051-1f7b606656c8"
      },
      "source": [
        "print(soma)\n",
        "print(subtracao)\n",
        "print(multiplicacao)\n",
        "print(divisao)\n",
        "print(potencia)\n",
        "print(equacao)"
      ],
      "execution_count": null,
      "outputs": [
        {
          "output_type": "stream",
          "text": [
            "25\n",
            "-5\n",
            "40\n",
            "2.5\n",
            "64\n",
            "5.16\n"
          ],
          "name": "stdout"
        }
      ]
    },
    {
      "cell_type": "code",
      "metadata": {
        "colab": {
          "base_uri": "https://localhost:8080/"
        },
        "id": "EDsbqBXn1jeP",
        "outputId": "e8cb4f8b-fb0d-4c43-9bbf-6b3449648d8e"
      },
      "source": [
        "type(soma)\n",
        "type(subtracao)\n",
        "type(multiplicacao)\n"
      ],
      "execution_count": null,
      "outputs": [
        {
          "output_type": "execute_result",
          "data": {
            "text/plain": [
              "int"
            ]
          },
          "metadata": {
            "tags": []
          },
          "execution_count": 35
        }
      ]
    },
    {
      "cell_type": "code",
      "metadata": {
        "colab": {
          "base_uri": "https://localhost:8080/"
        },
        "id": "c4J2Mmlb1uqv",
        "outputId": "56614cee-b99a-4585-efc4-1b3498bb175c"
      },
      "source": [
        "type(divisao)"
      ],
      "execution_count": null,
      "outputs": [
        {
          "output_type": "execute_result",
          "data": {
            "text/plain": [
              "float"
            ]
          },
          "metadata": {
            "tags": []
          },
          "execution_count": 34
        }
      ]
    },
    {
      "cell_type": "code",
      "metadata": {
        "colab": {
          "base_uri": "https://localhost:8080/"
        },
        "id": "DldeOXKW1zXF",
        "outputId": "59d6de34-8635-4840-c4f6-abecec390b64"
      },
      "source": [
        "type(potencia)"
      ],
      "execution_count": null,
      "outputs": [
        {
          "output_type": "execute_result",
          "data": {
            "text/plain": [
              "int"
            ]
          },
          "metadata": {
            "tags": []
          },
          "execution_count": 43
        }
      ]
    },
    {
      "cell_type": "code",
      "metadata": {
        "colab": {
          "base_uri": "https://localhost:8080/"
        },
        "id": "W1Ezk6-22DLA",
        "outputId": "64b7392f-f8ce-440e-f836-7850c48a7536"
      },
      "source": [
        "nome2 = input('Qual é o seu nome? ')\n",
        "idade = input('Qual é a sua idade? ')"
      ],
      "execution_count": null,
      "outputs": [
        {
          "output_type": "stream",
          "text": [
            "Qual é o seu nome? QuantumDots\n",
            "Qual é a sua idade? 27\n"
          ],
          "name": "stdout"
        }
      ]
    },
    {
      "cell_type": "code",
      "metadata": {
        "colab": {
          "base_uri": "https://localhost:8080/"
        },
        "id": "gKZ8-vgS4Dt9",
        "outputId": "420aeda2-c84a-4665-b562-ad1d199616f8"
      },
      "source": [
        "print(nome2)"
      ],
      "execution_count": null,
      "outputs": [
        {
          "output_type": "stream",
          "text": [
            "QuantumDots\n"
          ],
          "name": "stdout"
        }
      ]
    },
    {
      "cell_type": "code",
      "metadata": {
        "colab": {
          "base_uri": "https://localhost:8080/"
        },
        "id": "U3nMe-Oj6DaR",
        "outputId": "410db354-6e09-461f-fc37-c88a584e4631"
      },
      "source": [
        "print('meu nome é: ' + nome)"
      ],
      "execution_count": null,
      "outputs": [
        {
          "output_type": "stream",
          "text": [
            "meu nome é: Lucas Rosa\n"
          ],
          "name": "stdout"
        }
      ]
    },
    {
      "cell_type": "code",
      "metadata": {
        "colab": {
          "base_uri": "https://localhost:8080/"
        },
        "id": "SnLp_clL4MaB",
        "outputId": "fe4d1187-0fed-48a8-c549-f3b92a59f18d"
      },
      "source": [
        "nome3 = input('Qual é o seu nome? ')\n",
        "altura = float (input('Digite a sua altura (em metros): '))\n",
        "peso = float (input('Digite o seu peso (em Kg): '))\n",
        "\n",
        "imc = peso / (altura * altura)\n",
        "print('imc: ', imc)"
      ],
      "execution_count": null,
      "outputs": [
        {
          "output_type": "stream",
          "text": [
            "Qual é o seu nome? Lucas Rosa\n",
            "Digite a sua altura (em metros): 1.75\n",
            "Digite o seu peso (em Kg): 80\n",
            "imc:  26.122448979591837\n"
          ],
          "name": "stdout"
        }
      ]
    },
    {
      "cell_type": "code",
      "metadata": {
        "colab": {
          "base_uri": "https://localhost:8080/"
        },
        "id": "FOrYmc1V7NOh",
        "outputId": "ded1b14d-7f1b-4bfd-e85e-bd77b9624ed6"
      },
      "source": [
        "print('bem vindo a nossa calculadora de multiplicação')\n",
        "numero1 = float(input('Digite o primeiro número: '))\n",
        "numero2 = float(input('Digite o segundo número: '))\n",
        "\n",
        "resultado = numero1 * numero2\n",
        "\n",
        "print('O resultado é ', resultado)"
      ],
      "execution_count": null,
      "outputs": [
        {
          "output_type": "stream",
          "text": [
            "bem vindo a nossa calculadora de multiplicação\n",
            "Digite o primeiro número: 5\n",
            "Digite o segundo número: 40\n",
            "O resultado é  200.0\n"
          ],
          "name": "stdout"
        }
      ]
    },
    {
      "cell_type": "code",
      "metadata": {
        "colab": {
          "base_uri": "https://localhost:8080/"
        },
        "id": "jnx8Ey839Mfn",
        "outputId": "0a880891-5e13-4317-d22b-ad5dfa8b3702"
      },
      "source": [
        "nome = 'Lucas'\n",
        "sobrenome = 'Rosa'\n",
        "idade = 24\n",
        "\n",
        "print('Olá,', nome, sobrenome,\", sua idade é\",idade, \"anos\")"
      ],
      "execution_count": null,
      "outputs": [
        {
          "output_type": "stream",
          "text": [
            "Olá, Lucas Rosa , sua idade é 24 anos\n"
          ],
          "name": "stdout"
        }
      ]
    },
    {
      "cell_type": "code",
      "metadata": {
        "colab": {
          "base_uri": "https://localhost:8080/"
        },
        "id": "KKa2YLns9jfj",
        "outputId": "b7bb7697-22c4-4694-ba29-a7435f8897c4"
      },
      "source": [
        "nome = 'Lucas'\n",
        "sobrenome = 'Rosa'\n",
        "idade = 24\n",
        "\n",
        "print('Olá,', nome, sobrenome+\", sua idade é\",idade, \"anos\")"
      ],
      "execution_count": null,
      "outputs": [
        {
          "output_type": "stream",
          "text": [
            "Olá, Lucas Rosa, sua idade é 24 anos\n"
          ],
          "name": "stdout"
        }
      ]
    },
    {
      "cell_type": "code",
      "metadata": {
        "colab": {
          "base_uri": "https://localhost:8080/"
        },
        "id": "70K8EdSs97hX",
        "outputId": "c5ea4b62-3062-4fdb-fe65-9db8381a8e99"
      },
      "source": [
        "aluno = 'Luana'\n",
        "\n",
        "prova_mensal1 = 9\n",
        "prova_mensal2 = 8\n",
        "\n",
        "soma = prova_mensal1 + prova_mensal2\n",
        "\n",
        "quantidade = 2\n",
        "\n",
        "media = soma / quantidade\n",
        "\n",
        "print(f'A média da aluna {aluno} é {media}')\n",
        "print('A média da aluna', aluno, 'é', media)"
      ],
      "execution_count": null,
      "outputs": [
        {
          "output_type": "stream",
          "text": [
            "A média da aluna Luana é 8.5\n",
            "A média da aluna Luana é 8.5\n"
          ],
          "name": "stdout"
        }
      ]
    },
    {
      "cell_type": "code",
      "metadata": {
        "id": "sQ933gFL97Yc"
      },
      "source": [
        "lista = ['Cachorro', 'Gato', 'Coelho', 'Furão', 'Hamster']\n",
        "nero = lista[0]\n",
        "ivy = lista[1]\n",
        "bartolomeu = lista[2]\n",
        "shura = lista[3]\n",
        "natan = lista[4]"
      ],
      "execution_count": null,
      "outputs": []
    },
    {
      "cell_type": "code",
      "metadata": {
        "colab": {
          "base_uri": "https://localhost:8080/"
        },
        "id": "NEtIX3tlBZ0M",
        "outputId": "9be5bc0d-03cc-4d8c-e28e-ee23a9830e7d"
      },
      "source": [
        "print(nero)"
      ],
      "execution_count": null,
      "outputs": [
        {
          "output_type": "stream",
          "text": [
            "Cachorro\n"
          ],
          "name": "stdout"
        }
      ]
    },
    {
      "cell_type": "code",
      "metadata": {
        "colab": {
          "base_uri": "https://localhost:8080/"
        },
        "id": "QVTciAZsBbK8",
        "outputId": "f710cfd0-97e5-44bc-8110-ff207aa81175"
      },
      "source": [
        "print(ivy)"
      ],
      "execution_count": null,
      "outputs": [
        {
          "output_type": "stream",
          "text": [
            "Gato\n"
          ],
          "name": "stdout"
        }
      ]
    },
    {
      "cell_type": "code",
      "metadata": {
        "colab": {
          "base_uri": "https://localhost:8080/"
        },
        "id": "PNv8MAlEBj8s",
        "outputId": "e233e432-61d2-4f24-a6c5-70a041eaafbb"
      },
      "source": [
        "print(bartolomeu)"
      ],
      "execution_count": null,
      "outputs": [
        {
          "output_type": "stream",
          "text": [
            "Coelho\n"
          ],
          "name": "stdout"
        }
      ]
    },
    {
      "cell_type": "code",
      "metadata": {
        "colab": {
          "base_uri": "https://localhost:8080/"
        },
        "id": "rwgnAJdvBk7e",
        "outputId": "0e43b970-3c22-474c-ce97-fd3b33ce54c9"
      },
      "source": [
        "print(shura)"
      ],
      "execution_count": null,
      "outputs": [
        {
          "output_type": "stream",
          "text": [
            "Furão\n"
          ],
          "name": "stdout"
        }
      ]
    },
    {
      "cell_type": "code",
      "metadata": {
        "colab": {
          "base_uri": "https://localhost:8080/"
        },
        "id": "bTo-OMmGBmPn",
        "outputId": "1687880d-9fcc-4437-b36d-0cd263f9cd60"
      },
      "source": [
        "print(natan)"
      ],
      "execution_count": null,
      "outputs": [
        {
          "output_type": "stream",
          "text": [
            "Hamster\n"
          ],
          "name": "stdout"
        }
      ]
    },
    {
      "cell_type": "code",
      "metadata": {
        "id": "uMDOMnCuBnqD"
      },
      "source": [
        "lista_dados = [1, 'dois', 3.1, True]\n"
      ],
      "execution_count": null,
      "outputs": []
    },
    {
      "cell_type": "code",
      "metadata": {
        "colab": {
          "base_uri": "https://localhost:8080/"
        },
        "id": "vta6Rpd7Bxnr",
        "outputId": "7a32524d-4819-439b-c457-40ac0bc2d58e"
      },
      "source": [
        "type(lista_dados[0])"
      ],
      "execution_count": null,
      "outputs": [
        {
          "output_type": "execute_result",
          "data": {
            "text/plain": [
              "int"
            ]
          },
          "metadata": {
            "tags": []
          },
          "execution_count": 81
        }
      ]
    },
    {
      "cell_type": "code",
      "metadata": {
        "colab": {
          "base_uri": "https://localhost:8080/"
        },
        "id": "VkL82hdRB5Ss",
        "outputId": "d7d58a65-8f7f-4f0d-9cb9-e6f411aa5123"
      },
      "source": [
        "type(lista_dados[1])"
      ],
      "execution_count": null,
      "outputs": [
        {
          "output_type": "execute_result",
          "data": {
            "text/plain": [
              "str"
            ]
          },
          "metadata": {
            "tags": []
          },
          "execution_count": 82
        }
      ]
    },
    {
      "cell_type": "code",
      "metadata": {
        "colab": {
          "base_uri": "https://localhost:8080/"
        },
        "id": "mUJB_ehEB6xn",
        "outputId": "dc4be7ba-1a5b-42e3-a70c-e7b7940a406e"
      },
      "source": [
        "type(lista_dados[2])"
      ],
      "execution_count": null,
      "outputs": [
        {
          "output_type": "execute_result",
          "data": {
            "text/plain": [
              "float"
            ]
          },
          "metadata": {
            "tags": []
          },
          "execution_count": 83
        }
      ]
    },
    {
      "cell_type": "code",
      "metadata": {
        "colab": {
          "base_uri": "https://localhost:8080/"
        },
        "id": "JX5KA3DQB8QY",
        "outputId": "2252e834-f695-4b78-ce5a-b9fa4dae080e"
      },
      "source": [
        "type(lista_dados[3])"
      ],
      "execution_count": null,
      "outputs": [
        {
          "output_type": "execute_result",
          "data": {
            "text/plain": [
              "bool"
            ]
          },
          "metadata": {
            "tags": []
          },
          "execution_count": 84
        }
      ]
    },
    {
      "cell_type": "code",
      "metadata": {
        "id": "NQ75lBaRB9Wy"
      },
      "source": [
        "lista_dentro_de_lista = [ [1, 3], [1, 9], [2, 4] ]"
      ],
      "execution_count": null,
      "outputs": []
    },
    {
      "cell_type": "code",
      "metadata": {
        "id": "jcSQTL4hCPI9"
      },
      "source": [
        "sublista = lista_dentro_de_lista[0]"
      ],
      "execution_count": null,
      "outputs": []
    },
    {
      "cell_type": "code",
      "metadata": {
        "colab": {
          "base_uri": "https://localhost:8080/"
        },
        "id": "hjbHpnCICVid",
        "outputId": "8ee37bc5-a2b0-4445-d43d-fd84b0f7d355"
      },
      "source": [
        "print(sublista)"
      ],
      "execution_count": null,
      "outputs": [
        {
          "output_type": "stream",
          "text": [
            "[1, 3]\n"
          ],
          "name": "stdout"
        }
      ]
    },
    {
      "cell_type": "code",
      "metadata": {
        "colab": {
          "base_uri": "https://localhost:8080/"
        },
        "id": "tBsx1eJMCZ2U",
        "outputId": "78c25c1c-4ea1-4abc-d2df-68a0278c1692"
      },
      "source": [
        "print(sublista[1])"
      ],
      "execution_count": null,
      "outputs": [
        {
          "output_type": "stream",
          "text": [
            "3\n"
          ],
          "name": "stdout"
        }
      ]
    },
    {
      "cell_type": "code",
      "metadata": {
        "colab": {
          "base_uri": "https://localhost:8080/"
        },
        "id": "scG8sty0CdX7",
        "outputId": "53fea6d5-5a12-4a19-d5c8-ca9d01bb6c45"
      },
      "source": [
        "print(lista_dentro_de_lista[0][1])"
      ],
      "execution_count": null,
      "outputs": [
        {
          "output_type": "stream",
          "text": [
            "3\n"
          ],
          "name": "stdout"
        }
      ]
    },
    {
      "cell_type": "code",
      "metadata": {
        "id": "WKmHAdoYCk0H"
      },
      "source": [
        "lista_nomes = [ ['Nero','cachorro'], ['Ivy', 'gato'], ['Bartolomeu', 'coelho'], ['Shura','furão'], ['Natan','Hamster'] ]"
      ],
      "execution_count": null,
      "outputs": []
    },
    {
      "cell_type": "code",
      "metadata": {
        "colab": {
          "base_uri": "https://localhost:8080/"
        },
        "id": "A_KQFh-3C8bz",
        "outputId": "119200c6-c93e-4c59-ed50-417d37eceb83"
      },
      "source": [
        "print(f'O {lista_nomes[0][0]} é um {lista_nomes[0][1]}')"
      ],
      "execution_count": null,
      "outputs": [
        {
          "output_type": "stream",
          "text": [
            "O nero é um Cachorro\n"
          ],
          "name": "stdout"
        }
      ]
    },
    {
      "cell_type": "code",
      "metadata": {
        "id": "EfIOjcPtDSCA"
      },
      "source": [
        "ivy = lista_nomes[1]"
      ],
      "execution_count": null,
      "outputs": []
    },
    {
      "cell_type": "code",
      "metadata": {
        "colab": {
          "base_uri": "https://localhost:8080/"
        },
        "id": "FseR-rtADx4j",
        "outputId": "f9045d26-909a-42ae-b068-3740f8ba961b"
      },
      "source": [
        "print(f'A {ivy[0]} é um {ivy[1]}')"
      ],
      "execution_count": null,
      "outputs": [
        {
          "output_type": "stream",
          "text": [
            "A Ivy é um gato\n"
          ],
          "name": "stdout"
        }
      ]
    },
    {
      "cell_type": "code",
      "metadata": {
        "colab": {
          "base_uri": "https://localhost:8080/"
        },
        "id": "ybaBw64dD8ev",
        "outputId": "086f3834-0a47-4ee8-f643-af2529f4d18d"
      },
      "source": [
        "len(lista_nomes)"
      ],
      "execution_count": null,
      "outputs": [
        {
          "output_type": "execute_result",
          "data": {
            "text/plain": [
              "5"
            ]
          },
          "metadata": {
            "tags": []
          },
          "execution_count": 98
        }
      ]
    },
    {
      "cell_type": "code",
      "metadata": {
        "colab": {
          "base_uri": "https://localhost:8080/"
        },
        "id": "cpBFO1-8EaLh",
        "outputId": "6af9a40b-c736-4fbd-c408-f582a47692d8"
      },
      "source": [
        "if nome == 'Luana':print('Pode seguir')\n",
        "elif nome != 'Luana':print('Saia daqui!')"
      ],
      "execution_count": null,
      "outputs": [
        {
          "output_type": "stream",
          "text": [
            "Saia daqui!\n"
          ],
          "name": "stdout"
        }
      ]
    },
    {
      "cell_type": "code",
      "metadata": {
        "colab": {
          "base_uri": "https://localhost:8080/"
        },
        "id": "9m3aqMnCF6Ab",
        "outputId": "264ab253-5672-42a0-95dd-ae27e2a80280"
      },
      "source": [
        "if nome == 'Luana':print('Pode seguir')\n",
        "else: print('Saia daqui!')"
      ],
      "execution_count": null,
      "outputs": [
        {
          "output_type": "stream",
          "text": [
            "Saia daqui!\n"
          ],
          "name": "stdout"
        }
      ]
    },
    {
      "cell_type": "code",
      "metadata": {
        "colab": {
          "base_uri": "https://localhost:8080/"
        },
        "id": "Sofo0jO2GxYO",
        "outputId": "48cd90ad-eae7-4f81-f80f-1471cca50e4f"
      },
      "source": [
        "nome3 = input('Qual é o seu nome? ')\n",
        "altura = float (input('Digite a sua altura (em metros): '))\n",
        "peso = float (input('Digite o seu peso (em Kg): '))\n",
        "\n",
        "imc = peso / (altura * altura)\n",
        "print('imc: ', imc)\n",
        "\n",
        "if imc < 25: print('Classificação: normal')\n",
        "elif imc >= 25 and imc <30: print('Classificação: sobre-preso')"
      ],
      "execution_count": null,
      "outputs": [
        {
          "output_type": "stream",
          "text": [
            "Qual é o seu nome? Lucas\n",
            "Digite a sua altura (em metros): 1.75\n",
            "Digite o seu peso (em Kg): 80\n",
            "imc:  26.122448979591837\n",
            "Classificação: sobre-preso\n"
          ],
          "name": "stdout"
        }
      ]
    }
  ]
}