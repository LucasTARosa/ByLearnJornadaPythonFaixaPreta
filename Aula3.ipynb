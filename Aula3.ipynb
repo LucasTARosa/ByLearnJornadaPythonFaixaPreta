{
  "nbformat": 4,
  "nbformat_minor": 0,
  "metadata": {
    "colab": {
      "name": "Aula3.ipynb",
      "provenance": [],
      "authorship_tag": "ABX9TyP+whnXc1J2W9QfbLBsNyxK",
      "include_colab_link": true
    },
    "kernelspec": {
      "name": "python3",
      "display_name": "Python 3"
    },
    "language_info": {
      "name": "python"
    }
  },
  "cells": [
    {
      "cell_type": "markdown",
      "metadata": {
        "id": "view-in-github",
        "colab_type": "text"
      },
      "source": [
        "<a href=\"https://colab.research.google.com/github/LucasTARosa/ByLearnJornadaPythonFaixaPreta/blob/main/Aula3.ipynb\" target=\"_parent\"><img src=\"https://colab.research.google.com/assets/colab-badge.svg\" alt=\"Open In Colab\"/></a>"
      ]
    },
    {
      "cell_type": "code",
      "metadata": {
        "colab": {
          "base_uri": "https://localhost:8080/"
        },
        "id": "jO2lckIb0Y_t",
        "outputId": "c46de6c6-d855-4001-9656-ad8038e2d9e2"
      },
      "source": [
        "#jogo -> 1, 3, 5, 7\n",
        "\n",
        "numero = 8\n",
        "\n",
        "if numero == 1: print('Você acertou')\n",
        "elif numero == 3: print('Você acertou')\n",
        "elif numero == 5: print('Você acertou')\n",
        "elif numero == 7: print('Você acertou')\n",
        "else: print('Você errou')\n"
      ],
      "execution_count": 1,
      "outputs": [
        {
          "output_type": "stream",
          "text": [
            "Você errou\n"
          ],
          "name": "stdout"
        }
      ]
    },
    {
      "cell_type": "code",
      "metadata": {
        "colab": {
          "base_uri": "https://localhost:8080/"
        },
        "id": "Lln5urv16J7J",
        "outputId": "7ab6a786-babb-4d20-fbc6-f2c88b717c54"
      },
      "source": [
        "numero = 7\n",
        "\n",
        "if numero == 1 or numero == 3 or numero == 5 or numero == 7: print('Você acertou')\n",
        "else: print('Você errou')"
      ],
      "execution_count": 4,
      "outputs": [
        {
          "output_type": "stream",
          "text": [
            "Você acertou\n"
          ],
          "name": "stdout"
        }
      ]
    },
    {
      "cell_type": "markdown",
      "metadata": {
        "id": "ko-gGDMF7HtP"
      },
      "source": [
        "## Operadores lógicos"
      ]
    },
    {
      "cell_type": "code",
      "metadata": {
        "colab": {
          "base_uri": "https://localhost:8080/"
        },
        "id": "9HsOHHgV7ul5",
        "outputId": "4ef1f88d-cea5-4181-999d-3c421babea59"
      },
      "source": [
        "numero = 8\n",
        "\n",
        "if numero == 1 or numero == 3 or numero == 5 or numero == 7: print('Você acertou')\n",
        "else: print('Você errou')"
      ],
      "execution_count": null,
      "outputs": [
        {
          "output_type": "stream",
          "text": [
            "Você errou\n"
          ],
          "name": "stdout"
        }
      ]
    },
    {
      "cell_type": "code",
      "metadata": {
        "colab": {
          "base_uri": "https://localhost:8080/"
        },
        "id": "blGGWx4G7umC",
        "outputId": "bee47156-1cf5-465e-9368-6457696d0b64"
      },
      "source": [
        "numero = 7\n",
        "\n",
        "if numero == 1 or numero == 3 or numero == 5 or numero == 7: print('Você acertou')\n",
        "else: print('Você errou')"
      ],
      "execution_count": null,
      "outputs": [
        {
          "output_type": "stream",
          "text": [
            "Você acertou\n"
          ],
          "name": "stdout"
        }
      ]
    },
    {
      "cell_type": "code",
      "metadata": {
        "colab": {
          "base_uri": "https://localhost:8080/"
        },
        "id": "jFyE-WSt8f9i",
        "outputId": "ae2ebe57-b9f5-49b0-a5b4-2fef4efe8a0c"
      },
      "source": [
        "temperatura = 'calor'\n",
        "horario = 'noite'\n",
        "\n",
        "if temperatura == 'calor' and horario == 'dia':\n",
        "  print('Vamos tomar um sorvete')\n",
        "elif temperatura == 'calor' and horario == 'noite':\n",
        "  print('Vamos tomar um açai')\n",
        "elif temperatura == 'frio' or temperatura == 'congelando':\n",
        "  print('Vamos tomar um cafézinho')\n",
        "else: print('Vamos de refri e pipoca')"
      ],
      "execution_count": 6,
      "outputs": [
        {
          "output_type": "stream",
          "text": [
            "Vamos tomar um açai\n"
          ],
          "name": "stdout"
        }
      ]
    },
    {
      "cell_type": "code",
      "metadata": {
        "colab": {
          "base_uri": "https://localhost:8080/"
        },
        "id": "rpj19LUC_u8p",
        "outputId": "711c338b-f8d8-4d4e-dacc-ab8b81595663"
      },
      "source": [
        "nome = 'Lucas'\n",
        "sobrenome = 'Rosa'\n",
        "idade = 27\n",
        "\n",
        "if nome == 'Lucas':\n",
        "  print('Você se chama Lucas')\n",
        "\n",
        "  if sobrenome == 'Rosa':\n",
        "    print('Eita! Você também se chama Lucas Rosa')\n",
        "    \n",
        "    if idade == 27:\n",
        "      print('Você sou eu?')\n",
        "    else:\n",
        "        print('Nossa, outro Lucas Rosa no mundo?')\n",
        "\n",
        "  else:\n",
        "    print('Ufa! Não é Rosa também!')\n",
        "\n",
        "else:\n",
        "  print('Você não é o Lucas')"
      ],
      "execution_count": 9,
      "outputs": [
        {
          "output_type": "stream",
          "text": [
            "Você se chama Lucas\n",
            "Eita! Você também se chama Lucas Rosa\n",
            "Você sou eu?\n"
          ],
          "name": "stdout"
        }
      ]
    },
    {
      "cell_type": "code",
      "metadata": {
        "colab": {
          "base_uri": "https://localhost:8080/"
        },
        "id": "qMBup7LjA_5O",
        "outputId": "572f06f0-a1d5-4c67-abf2-462cdc692cf0"
      },
      "source": [
        "hora = 2\n",
        "\n",
        "if hora >= 0 and hora <6:\n",
        "  print('Boa madrugada')\n",
        "elif hora >= 6 and hora <= 12:\n",
        "  print('Bom dia')\n",
        "elif hora <= 18:\n",
        "  print('Boa tarde')\n",
        "else:\n",
        "  print('Boa noite')"
      ],
      "execution_count": 18,
      "outputs": [
        {
          "output_type": "stream",
          "text": [
            "Boa madrugada\n"
          ],
          "name": "stdout"
        }
      ]
    },
    {
      "cell_type": "markdown",
      "metadata": {
        "id": "L1-qLFaQB1se"
      },
      "source": [
        "## Laços de repetição\n",
        "\n",
        "Forma de evitar repetição de código, executa uma ação repetida vezes\n",
        "\n",
        "Sintaxe:\n",
        "for variavel in intervalo/sequencia:\n",
        "- for => Sintaxe do Python para laços de repetição (para cada)\n",
        "- variável => O dado que estamos trabalhando no momento\n",
        "- in => Palavra chave para \"onde vamos fazer a repetição\"\n",
        "- intervalo/sequência => O que vamos usar para a repetição"
      ]
    },
    {
      "cell_type": "code",
      "metadata": {
        "colab": {
          "base_uri": "https://localhost:8080/"
        },
        "id": "pweyqRacB0sk",
        "outputId": "30aa93d3-0975-4fd5-ac31-03f241dff8fb"
      },
      "source": [
        "print(1)\n",
        "print(2)\n",
        "print(3)\n",
        "print(4)\n",
        "print(5)\n",
        "print(6)"
      ],
      "execution_count": 19,
      "outputs": [
        {
          "output_type": "stream",
          "text": [
            "1\n",
            "2\n",
            "3\n",
            "4\n",
            "5\n",
            "6\n"
          ],
          "name": "stdout"
        }
      ]
    },
    {
      "cell_type": "code",
      "metadata": {
        "colab": {
          "base_uri": "https://localhost:8080/"
        },
        "id": "LyVraqUDCVTx",
        "outputId": "0166e842-1353-4f14-df71-73d922d94565"
      },
      "source": [
        "## para cada número no intervalo até 10\n",
        "for numero in range(10):\n",
        "  print(numero)"
      ],
      "execution_count": 20,
      "outputs": [
        {
          "output_type": "stream",
          "text": [
            "0\n",
            "1\n",
            "2\n",
            "3\n",
            "4\n",
            "5\n",
            "6\n",
            "7\n",
            "8\n",
            "9\n"
          ],
          "name": "stdout"
        }
      ]
    },
    {
      "cell_type": "code",
      "metadata": {
        "colab": {
          "base_uri": "https://localhost:8080/"
        },
        "id": "7Q29M0bKCZvv",
        "outputId": "9509b5ff-c7c8-4e48-c99b-5bb5aee4f088"
      },
      "source": [
        "# Na programação tudo começa em 0\n",
        "# Na programação o limite inferior é INCLUSIVO (faz parte)\n",
        "# Na programação o limite superior é EXCLUSIVO (não faz parte)\n",
        "for numero in range(1,11):\n",
        "  print(numero)"
      ],
      "execution_count": 21,
      "outputs": [
        {
          "output_type": "stream",
          "text": [
            "1\n",
            "2\n",
            "3\n",
            "4\n",
            "5\n",
            "6\n",
            "7\n",
            "8\n",
            "9\n",
            "10\n"
          ],
          "name": "stdout"
        }
      ]
    },
    {
      "cell_type": "code",
      "metadata": {
        "colab": {
          "base_uri": "https://localhost:8080/"
        },
        "id": "Qhwdw1TiDwpy",
        "outputId": "09af11af-718f-46bb-9f80-a52d8f971fc7"
      },
      "source": [
        "for i in range(10):\n",
        "  print(i*2)"
      ],
      "execution_count": 22,
      "outputs": [
        {
          "output_type": "stream",
          "text": [
            "0\n",
            "2\n",
            "4\n",
            "6\n",
            "8\n",
            "10\n",
            "12\n",
            "14\n",
            "16\n",
            "18\n"
          ],
          "name": "stdout"
        }
      ]
    },
    {
      "cell_type": "code",
      "metadata": {
        "colab": {
          "base_uri": "https://localhost:8080/"
        },
        "id": "Bb4SCjWhD5nO",
        "outputId": "fc76e37d-f33c-4fc3-c1c9-97520696fd41"
      },
      "source": [
        "for numero in range(10):\n",
        "  if numero == 5:\n",
        "    print('Está no 5')"
      ],
      "execution_count": 23,
      "outputs": [
        {
          "output_type": "stream",
          "text": [
            "Está no 5\n"
          ],
          "name": "stdout"
        }
      ]
    },
    {
      "cell_type": "code",
      "metadata": {
        "colab": {
          "base_uri": "https://localhost:8080/"
        },
        "id": "dl7PHuYhEDsm",
        "outputId": "bbe61df8-cf98-4ec6-9705-13558a6719b3"
      },
      "source": [
        "for numero in range(1,10,2):\n",
        "  print(numero)"
      ],
      "execution_count": 28,
      "outputs": [
        {
          "output_type": "stream",
          "text": [
            "1\n",
            "3\n",
            "5\n",
            "7\n",
            "9\n"
          ],
          "name": "stdout"
        }
      ]
    },
    {
      "cell_type": "code",
      "metadata": {
        "colab": {
          "base_uri": "https://localhost:8080/"
        },
        "id": "55NbWnEmEhli",
        "outputId": "16f6b2b7-a444-4173-ec8b-d64248ef4637"
      },
      "source": [
        "for numero in range(10,0,-1):\n",
        "  print(numero)"
      ],
      "execution_count": 31,
      "outputs": [
        {
          "output_type": "stream",
          "text": [
            "10\n",
            "9\n",
            "8\n",
            "7\n",
            "6\n",
            "5\n",
            "4\n",
            "3\n",
            "2\n",
            "1\n"
          ],
          "name": "stdout"
        }
      ]
    },
    {
      "cell_type": "code",
      "metadata": {
        "colab": {
          "base_uri": "https://localhost:8080/"
        },
        "id": "oQCL4skSEvZv",
        "outputId": "7642a216-ba15-41f8-8e5f-3ca619ca8ea1"
      },
      "source": [
        "for numero in range(1,11):\n",
        "  if numero % 2 == 0:\n",
        "    print(f'O {numero} é par')\n",
        "  else:\n",
        "    print(f'O {numero} é impar')"
      ],
      "execution_count": 42,
      "outputs": [
        {
          "output_type": "stream",
          "text": [
            "O 1 é impar\n",
            "O 2 é par\n",
            "O 3 é impar\n",
            "O 4 é par\n",
            "O 5 é impar\n",
            "O 6 é par\n",
            "O 7 é impar\n",
            "O 8 é par\n",
            "O 9 é impar\n",
            "O 10 é par\n"
          ],
          "name": "stdout"
        }
      ]
    },
    {
      "cell_type": "code",
      "metadata": {
        "colab": {
          "base_uri": "https://localhost:8080/"
        },
        "id": "Z9PNLnUmFER0",
        "outputId": "34400356-3652-48b7-83e3-ebb42f55468f"
      },
      "source": [
        "numeros_validos = [1, 3, 5, 6, 9]\n",
        "numeros_escolhidos = 3\n",
        "\n",
        "for numero in numeros_validos:\n",
        "  if numero == numeros_escolhidos:\n",
        "    print('Acertou')"
      ],
      "execution_count": 45,
      "outputs": [
        {
          "output_type": "stream",
          "text": [
            "Acertou\n"
          ],
          "name": "stdout"
        }
      ]
    },
    {
      "cell_type": "code",
      "metadata": {
        "colab": {
          "base_uri": "https://localhost:8080/"
        },
        "id": "AtHCHmQCFnk-",
        "outputId": "7e3ddef7-6c3a-47f8-d2bf-9132f4280247"
      },
      "source": [
        "nomes = ['Flash', 'Greg', 'Kratos', 'Batman', 'Pooky', 'Felix', 'Doctor', 'Gohan', 'Robin', 'Gandalf', 'Obi-Wan']\n",
        "\n",
        "for nome in nomes:\n",
        "  print('O Felipe tem um gato chamado', nome)"
      ],
      "execution_count": 46,
      "outputs": [
        {
          "output_type": "stream",
          "text": [
            "O Felipe tem um gato chamado Flash\n",
            "O Felipe tem um gato chamado Greg\n",
            "O Felipe tem um gato chamado Kratos\n",
            "O Felipe tem um gato chamado Batman\n",
            "O Felipe tem um gato chamado Pooky\n",
            "O Felipe tem um gato chamado Felix\n",
            "O Felipe tem um gato chamado Doctor\n",
            "O Felipe tem um gato chamado Gohan\n",
            "O Felipe tem um gato chamado Robin\n",
            "O Felipe tem um gato chamado Gandalf\n",
            "O Felipe tem um gato chamado Obi-Wan\n"
          ],
          "name": "stdout"
        }
      ]
    },
    {
      "cell_type": "code",
      "metadata": {
        "colab": {
          "base_uri": "https://localhost:8080/"
        },
        "id": "62Sqd8ATFqXL",
        "outputId": "d6020f4c-1bbc-4f2f-c328-3686af08ecaf"
      },
      "source": [
        "notas = [10, 7, 9, 10, 5, 9.2]\n",
        "\n",
        "soma = 0\n",
        "\n",
        "for nota in notas:\n",
        "  soma = soma + nota\n",
        "\n",
        "media = soma / len(notas)\n",
        "\n",
        "print(soma)\n",
        "print(f'A média é {media:.2f}')"
      ],
      "execution_count": 63,
      "outputs": [
        {
          "output_type": "stream",
          "text": [
            "50.2\n",
            "A média é 8.37\n"
          ],
          "name": "stdout"
        }
      ]
    },
    {
      "cell_type": "markdown",
      "metadata": {
        "id": "LLs1M_WyKE-B"
      },
      "source": [
        "## Função\n",
        "\n",
        "Uma função é uma rotina.\n",
        "\n",
        "Basicamene, a gnt define uma função (rotina) e chamamos (executa) quando for necessário.\n",
        "\n",
        "É uma ótima maneira de evitar repetição de código.\n",
        "\n",
        "## Sintaxe\n",
        "\n",
        "def nome_funcao():\n",
        "\n",
        "  ... -> aqui que define a rotina"
      ]
    },
    {
      "cell_type": "code",
      "metadata": {
        "colab": {
          "base_uri": "https://localhost:8080/"
        },
        "id": "4J49AD7lI_1s",
        "outputId": "a4a43fe8-2251-4823-cffd-f2c11586572a"
      },
      "source": [
        "def mostrar_nome():\n",
        "  print('Lucas Rosa')\n",
        "\n",
        "mostrar_nome()"
      ],
      "execution_count": 66,
      "outputs": [
        {
          "output_type": "stream",
          "text": [
            "Lucas Rosa\n"
          ],
          "name": "stdout"
        }
      ]
    },
    {
      "cell_type": "code",
      "metadata": {
        "id": "RKLxF8DULCXW"
      },
      "source": [
        "def calcular_media():\n",
        "  nota1 = 10\n",
        "  nota2 = 20\n",
        "  soma = nota1 + nota2\n",
        "  quantidade = 2\n",
        "  media = soma / quantidade\n",
        "  print(media)"
      ],
      "execution_count": 73,
      "outputs": []
    },
    {
      "cell_type": "code",
      "metadata": {
        "colab": {
          "base_uri": "https://localhost:8080/"
        },
        "id": "bJcWqjgQLmEX",
        "outputId": "4d7b0119-7f8d-4948-f0fd-9e039b1fd7b7"
      },
      "source": [
        "calcular_media()"
      ],
      "execution_count": 74,
      "outputs": [
        {
          "output_type": "stream",
          "text": [
            "15.0\n"
          ],
          "name": "stdout"
        }
      ]
    },
    {
      "cell_type": "code",
      "metadata": {
        "colab": {
          "base_uri": "https://localhost:8080/"
        },
        "id": "hGlY1OeYLncR",
        "outputId": "d3007099-0822-43e4-e09a-34ac1c07739b"
      },
      "source": [
        "calcular_media()"
      ],
      "execution_count": 75,
      "outputs": [
        {
          "output_type": "stream",
          "text": [
            "15.0\n"
          ],
          "name": "stdout"
        }
      ]
    },
    {
      "cell_type": "markdown",
      "metadata": {
        "id": "jfTGoVbsMGG6"
      },
      "source": [
        "## Parâmetros\n",
        "\n",
        "É uma forma de enviar dados para a função trabalhar\n",
        "Ou seja, envio informações para a rotina processar"
      ]
    },
    {
      "cell_type": "code",
      "metadata": {
        "id": "AdcVU9tOMDOj"
      },
      "source": [
        "def calcular_media(nota1, nota2):\n",
        "  soma = nota1 + nota2\n",
        "  quantidade = 2\n",
        "  media = soma / quantidade\n",
        "  print(media)"
      ],
      "execution_count": 78,
      "outputs": []
    },
    {
      "cell_type": "code",
      "metadata": {
        "colab": {
          "base_uri": "https://localhost:8080/"
        },
        "id": "3cwNtzS4L-zQ",
        "outputId": "4ccbae52-8d2e-4176-d375-f9195ec64349"
      },
      "source": [
        "calcular_media(10, 15)"
      ],
      "execution_count": 80,
      "outputs": [
        {
          "output_type": "stream",
          "text": [
            "12.5\n"
          ],
          "name": "stdout"
        }
      ]
    },
    {
      "cell_type": "code",
      "metadata": {
        "colab": {
          "base_uri": "https://localhost:8080/"
        },
        "id": "XA38s4SbMBeU",
        "outputId": "380fb921-4807-4b5b-c73f-529da1ea10d8"
      },
      "source": [
        "calcular_media(20, 2)"
      ],
      "execution_count": 81,
      "outputs": [
        {
          "output_type": "stream",
          "text": [
            "11.0\n"
          ],
          "name": "stdout"
        }
      ]
    },
    {
      "cell_type": "code",
      "metadata": {
        "colab": {
          "base_uri": "https://localhost:8080/"
        },
        "id": "Xi25e9VIMfOY",
        "outputId": "ed8c40e6-7703-4a4c-9e36-cacc979098ff"
      },
      "source": [
        "media = calcular_media(10,0)"
      ],
      "execution_count": 83,
      "outputs": [
        {
          "output_type": "stream",
          "text": [
            "5.0\n"
          ],
          "name": "stdout"
        }
      ]
    },
    {
      "cell_type": "code",
      "metadata": {
        "colab": {
          "base_uri": "https://localhost:8080/"
        },
        "id": "avUthKZVMsQO",
        "outputId": "f372d452-eff8-4ddf-a0ec-2f217621b730"
      },
      "source": [
        "print(media)"
      ],
      "execution_count": 84,
      "outputs": [
        {
          "output_type": "stream",
          "text": [
            "None\n"
          ],
          "name": "stdout"
        }
      ]
    },
    {
      "cell_type": "code",
      "metadata": {
        "colab": {
          "base_uri": "https://localhost:8080/"
        },
        "id": "90G02s3uO24b",
        "outputId": "b27184fa-1a7f-4602-b571-890faa8fa47d"
      },
      "source": [
        "def mostrar_nome(nome):\n",
        "  print('O nome é', nome)\n",
        "\n",
        "mostrar_nome('Paloma')"
      ],
      "execution_count": 92,
      "outputs": [
        {
          "output_type": "stream",
          "text": [
            "O nome é Paloma\n"
          ],
          "name": "stdout"
        }
      ]
    },
    {
      "cell_type": "code",
      "metadata": {
        "colab": {
          "base_uri": "https://localhost:8080/"
        },
        "id": "jxRHOQO4MxIA",
        "outputId": "42d28c55-2cf6-4d6e-aec3-9c3dba6b2a89"
      },
      "source": [
        "def calcular_media(nota1, nota2):\n",
        "  soma = nota1 + nota2\n",
        "  quantidade = 2\n",
        "  media = soma / quantidade\n",
        "  return media\n",
        "\n",
        "media_aluno = calcular_media(10, 6)\n",
        "\n",
        "if media_aluno >= 6:\n",
        "   print('Aprovado!')\n",
        "else:\n",
        "   print('Reprovado, se esforce mais')"
      ],
      "execution_count": 86,
      "outputs": [
        {
          "output_type": "stream",
          "text": [
            "Aprovado!\n"
          ],
          "name": "stdout"
        }
      ]
    },
    {
      "cell_type": "code",
      "metadata": {
        "colab": {
          "base_uri": "https://localhost:8080/"
        },
        "id": "qW2pml3JOD--",
        "outputId": "63ec74f9-a547-47f6-c058-005b90eeed4c"
      },
      "source": [
        "def calcular_media(nota1, nota2):\n",
        "  soma = nota1 + nota2\n",
        "  quantidade = 2\n",
        "  media = soma / quantidade\n",
        "  return media\n",
        "\n",
        "media_aluno = calcular_media(10, 1)\n",
        "\n",
        "if media_aluno >= 6:\n",
        "   print('Aprovado!')\n",
        "else:\n",
        "   print('Reprovado, se esforce mais')"
      ],
      "execution_count": 87,
      "outputs": [
        {
          "output_type": "stream",
          "text": [
            "Reprovado, se esforce mais\n"
          ],
          "name": "stdout"
        }
      ]
    },
    {
      "cell_type": "code",
      "metadata": {
        "colab": {
          "base_uri": "https://localhost:8080/"
        },
        "id": "6L-2M86XOGBi",
        "outputId": "abbe0067-c9e0-455b-a05b-cca80f1ce89a"
      },
      "source": [
        "def aluno_aprovado(nome, nota1, nota2):\n",
        "  media_calculada = calcular_media(nota1, nota2)\n",
        "\n",
        "  if calcular_media(nota1, nota2) >= 6:\n",
        "    print(f'O aluno {nome} foi aprovado!')\n",
        "  else:\n",
        "    print(f'O aluno {nome} foi reprovado')\n",
        "\n",
        "aluno_aprovado('Lucas', 10, 9.5)"
      ],
      "execution_count": 88,
      "outputs": [
        {
          "output_type": "stream",
          "text": [
            "O aluno Lucas foi aprovado!\n"
          ],
          "name": "stdout"
        }
      ]
    },
    {
      "cell_type": "code",
      "metadata": {
        "id": "Zy7NqWDiOnD7"
      },
      "source": [
        "def muitos_retornos():\n",
        "  return 10, 20, 'Lucas'\n",
        "\n",
        "retornado = muitos_retornos()"
      ],
      "execution_count": 89,
      "outputs": []
    },
    {
      "cell_type": "code",
      "metadata": {
        "colab": {
          "base_uri": "https://localhost:8080/"
        },
        "id": "alaxnmndOwVN",
        "outputId": "f65f45dc-1e5b-4b80-9d25-a89f49c83d9e"
      },
      "source": [
        "retornado"
      ],
      "execution_count": 90,
      "outputs": [
        {
          "output_type": "execute_result",
          "data": {
            "text/plain": [
              "(10, 20, 'Lucas')"
            ]
          },
          "metadata": {
            "tags": []
          },
          "execution_count": 90
        }
      ]
    },
    {
      "cell_type": "code",
      "metadata": {
        "id": "nyPAp-KeQe5r"
      },
      "source": [
        "def numero_quadrado(numero):\n",
        "  quadrado = numero * numero\n",
        "  return quadrado\n",
        "\n",
        "def calcular_imc(peso, altura):\n",
        "  altura_quadrada = numero_quadrado(altura)\n",
        "\n",
        "  imc = peso / altura_quadrada\n",
        "  \n",
        "  return imc\n",
        "\n",
        "def classificar(imc):\n",
        "  if imc < 18.5:\n",
        "    print('magreza')\n",
        "  elif imc >= 18.5 and imc < 25:\n",
        "    print('Normal')\n",
        "  elif imc >= 25 and imc < 30:\n",
        "    print('Sobrepeso')\n",
        "  elif imc >= 30 and imc < 40:\n",
        "    print('Obesidade')\n",
        "  elif imc > 40:\n",
        "    print('Obesidade grave')"
      ],
      "execution_count": 93,
      "outputs": []
    },
    {
      "cell_type": "code",
      "metadata": {
        "colab": {
          "base_uri": "https://localhost:8080/"
        },
        "id": "pnTrOKehOxA_",
        "outputId": "5ef0fe97-8fe2-4b42-ef77-0e1295d5a824"
      },
      "source": [
        "nome = str(input('Qual é o seu nome? '))\n",
        "peso = float(input('Insira seu peso (kg): '))\n",
        "altura = float(input('Insira sua altura (m): '))\n",
        "\n",
        "print('Seu nome é:', nome)\n",
        "meu_imc = calcular_imc(peso, altura)\n",
        "print('Seu IMC é: %.2f' % meu_imc)\n",
        "print('%.2f' % meu_imc)\n",
        "classificar(meu_imc)"
      ],
      "execution_count": 101,
      "outputs": [
        {
          "output_type": "stream",
          "text": [
            "Qual é o seu nome? Lucas\n",
            "Insira seu peso (kg): 80\n",
            "Insira sua altura (m): 1.75\n",
            "Seu nome é: Lucas\n",
            "Seu IMC é: 26.12\n",
            "26.12\n",
            "Sobrepeso\n"
          ],
          "name": "stdout"
        }
      ]
    },
    {
      "cell_type": "code",
      "metadata": {
        "id": "PSlLchN4Stv8"
      },
      "source": [
        ""
      ],
      "execution_count": null,
      "outputs": []
    }
  ]
}